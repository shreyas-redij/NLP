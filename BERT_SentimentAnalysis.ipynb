{
  "nbformat": 4,
  "nbformat_minor": 0,
  "metadata": {
    "accelerator": "GPU",
    "colab": {
      "name": "BERT_SentimentAnalysis.ipynb",
      "provenance": [],
      "collapsed_sections": []
    },
    "kernelspec": {
      "display_name": "Python 3",
      "name": "python3"
    }
  },
  "cells": [
    {
      "cell_type": "markdown",
      "metadata": {
        "id": "tiQMDa0tDXZJ"
      },
      "source": [
        "Sentiment Analysis for using BERT by Scrapping data from BEST BUY for Google Home Mini."
      ]
    },
    {
      "cell_type": "markdown",
      "metadata": {
        "id": "apgM4LbXUech"
      },
      "source": [
        " Create a BERT/Transformer model for classifying the sentiment corpus that you have created. There will be two classes - positive and negative."
      ]
    },
    {
      "cell_type": "markdown",
      "metadata": {
        "id": "VviPDDOv_3_z"
      },
      "source": [
        "**Create a BERT model and fine-tune it for sentiment analysis**\n",
        "\n",
        "*BERT stands for Bidirectional Encoder Representations from Transformers and it is a state-of-the-art machine learning model used for NLP tasks.*\n",
        "\n",
        "\n",
        "*There are two pre-trained general BERT variations: The base model is a 12-layer, 768-hidden, 12-heads, 110M parameter neural network architecture, whereas the large model is a 24-layer, 1024-hidden, 16-heads, 340M parameter neural network architecture.*\n",
        "\n",
        "[link text](https://miro.medium.com/max/1640/1*UgytWW_huSrfWtGUV5vmNQ.png\n",
        "\n",
        "![](https://miro.medium.com/max/1640/1*UgytWW_huSrfWtGUV5vmNQ.png)"
      ]
    },
    {
      "cell_type": "markdown",
      "metadata": {
        "id": "OtW2XZwHAC9c"
      },
      "source": [
        "**Installing Hugging Face Transformers Library**"
      ]
    },
    {
      "cell_type": "markdown",
      "metadata": {
        "id": "oRx8HrsFADT4"
      },
      "source": [
        "*Install Transformers library;*\n",
        "\n",
        "*Load the BERT Classifier and Tokenizer alıng with Input modules;*\n",
        "\n",
        "*Download the IMDB Reviews Data and create a processed dataset (this will take several operations;*\n",
        "\n",
        "*Configure the Loaded BERT model and Train for Fine-tuning*\n",
        "\n",
        "*Make Predictions with the Fine-tuned Model*"
      ]
    },
    {
      "cell_type": "code",
      "metadata": {
        "id": "QvquJvaScQbb",
        "colab": {
          "base_uri": "https://localhost:8080/"
        },
        "outputId": "2c1024a2-f25d-4c07-dbb6-fe2824f99d06"
      },
      "source": [
        "!pip install transformers"
      ],
      "execution_count": 271,
      "outputs": [
        {
          "output_type": "stream",
          "text": [
            "Requirement already satisfied: transformers in /usr/local/lib/python3.6/dist-packages (3.5.1)\n",
            "Requirement already satisfied: tokenizers==0.9.3 in /usr/local/lib/python3.6/dist-packages (from transformers) (0.9.3)\n",
            "Requirement already satisfied: regex!=2019.12.17 in /usr/local/lib/python3.6/dist-packages (from transformers) (2019.12.20)\n",
            "Requirement already satisfied: tqdm>=4.27 in /usr/local/lib/python3.6/dist-packages (from transformers) (4.41.1)\n",
            "Requirement already satisfied: sentencepiece==0.1.91 in /usr/local/lib/python3.6/dist-packages (from transformers) (0.1.91)\n",
            "Requirement already satisfied: requests in /usr/local/lib/python3.6/dist-packages (from transformers) (2.23.0)\n",
            "Requirement already satisfied: dataclasses; python_version < \"3.7\" in /usr/local/lib/python3.6/dist-packages (from transformers) (0.8)\n",
            "Requirement already satisfied: sacremoses in /usr/local/lib/python3.6/dist-packages (from transformers) (0.0.43)\n",
            "Requirement already satisfied: protobuf in /usr/local/lib/python3.6/dist-packages (from transformers) (3.12.4)\n",
            "Requirement already satisfied: packaging in /usr/local/lib/python3.6/dist-packages (from transformers) (20.4)\n",
            "Requirement already satisfied: numpy in /usr/local/lib/python3.6/dist-packages (from transformers) (1.18.5)\n",
            "Requirement already satisfied: filelock in /usr/local/lib/python3.6/dist-packages (from transformers) (3.0.12)\n",
            "Requirement already satisfied: certifi>=2017.4.17 in /usr/local/lib/python3.6/dist-packages (from requests->transformers) (2020.11.8)\n",
            "Requirement already satisfied: idna<3,>=2.5 in /usr/local/lib/python3.6/dist-packages (from requests->transformers) (2.10)\n",
            "Requirement already satisfied: chardet<4,>=3.0.2 in /usr/local/lib/python3.6/dist-packages (from requests->transformers) (3.0.4)\n",
            "Requirement already satisfied: urllib3!=1.25.0,!=1.25.1,<1.26,>=1.21.1 in /usr/local/lib/python3.6/dist-packages (from requests->transformers) (1.24.3)\n",
            "Requirement already satisfied: joblib in /usr/local/lib/python3.6/dist-packages (from sacremoses->transformers) (0.17.0)\n",
            "Requirement already satisfied: six in /usr/local/lib/python3.6/dist-packages (from sacremoses->transformers) (1.15.0)\n",
            "Requirement already satisfied: click in /usr/local/lib/python3.6/dist-packages (from sacremoses->transformers) (7.1.2)\n",
            "Requirement already satisfied: setuptools in /usr/local/lib/python3.6/dist-packages (from protobuf->transformers) (50.3.2)\n",
            "Requirement already satisfied: pyparsing>=2.0.2 in /usr/local/lib/python3.6/dist-packages (from packaging->transformers) (2.4.7)\n"
          ],
          "name": "stdout"
        }
      ]
    },
    {
      "cell_type": "code",
      "metadata": {
        "colab": {
          "base_uri": "https://localhost:8080/"
        },
        "id": "SAP9runncUeq",
        "outputId": "be3699fc-0e46-4c94-ccad-69de9919c9ed"
      },
      "source": [
        "from transformers import BertTokenizer, TFBertForSequenceClassification\n",
        "from transformers import InputExample, InputFeatures\n",
        "\n",
        "model = TFBertForSequenceClassification.from_pretrained(\"bert-base-uncased\")\n",
        "tokenizer = BertTokenizer.from_pretrained(\"bert-base-uncased\")"
      ],
      "execution_count": 272,
      "outputs": [
        {
          "output_type": "stream",
          "text": [
            "Some layers from the model checkpoint at bert-base-uncased were not used when initializing TFBertForSequenceClassification: ['nsp___cls', 'mlm___cls']\n",
            "- This IS expected if you are initializing TFBertForSequenceClassification from the checkpoint of a model trained on another task or with another architecture (e.g. initializing a BertForSequenceClassification model from a BertForPreTraining model).\n",
            "- This IS NOT expected if you are initializing TFBertForSequenceClassification from the checkpoint of a model that you expect to be exactly identical (initializing a BertForSequenceClassification model from a BertForSequenceClassification model).\n",
            "Some layers of TFBertForSequenceClassification were not initialized from the model checkpoint at bert-base-uncased and are newly initialized: ['classifier', 'dropout_227']\n",
            "You should probably TRAIN this model on a down-stream task to be able to use it for predictions and inference.\n"
          ],
          "name": "stderr"
        }
      ]
    },
    {
      "cell_type": "markdown",
      "metadata": {
        "id": "w7dyO3FBcbFT"
      },
      "source": [
        "**Let’s see the summary of our BERT model:**\n"
      ]
    },
    {
      "cell_type": "code",
      "metadata": {
        "id": "jQcRYsrCcUh7",
        "colab": {
          "base_uri": "https://localhost:8080/"
        },
        "outputId": "a05b393d-32b2-4473-e682-eb47d849ca1c"
      },
      "source": [
        "model.summary()"
      ],
      "execution_count": 273,
      "outputs": [
        {
          "output_type": "stream",
          "text": [
            "Model: \"tf_bert_for_sequence_classification_5\"\n",
            "_________________________________________________________________\n",
            "Layer (type)                 Output Shape              Param #   \n",
            "=================================================================\n",
            "bert (TFBertMainLayer)       multiple                  109482240 \n",
            "_________________________________________________________________\n",
            "dropout_227 (Dropout)        multiple                  0         \n",
            "_________________________________________________________________\n",
            "classifier (Dense)           multiple                  1538      \n",
            "=================================================================\n",
            "Total params: 109,483,778\n",
            "Trainable params: 109,483,778\n",
            "Non-trainable params: 0\n",
            "_________________________________________________________________\n"
          ],
          "name": "stdout"
        }
      ]
    },
    {
      "cell_type": "code",
      "metadata": {
        "id": "nvf8st3-cUlC"
      },
      "source": [
        "import tensorflow as tf\n",
        "import pandas as pd"
      ],
      "execution_count": 274,
      "outputs": []
    },
    {
      "cell_type": "code",
      "metadata": {
        "id": "jcxIOo9mcUoB"
      },
      "source": [
        "#Importing the required libraries\n",
        "import urllib\n",
        "from urllib.request import urlopen\n",
        "from bs4 import BeautifulSoup\n",
        "import pandas as pd\n",
        "import nltk\n",
        "import os\n",
        "import matplotlib as mpl\n",
        "import matplotlib.pyplot as plt\n",
        "import seaborn as sns\n",
        "\n",
        "%matplotlib inline\n",
        "from nltk.corpus import stopwords\n",
        "from subprocess import check_output\n",
        "from wordcloud import WordCloud, STOPWORDS\n",
        "from sklearn.model_selection import train_test_split\n",
        "from nltk.corpus import opinion_lexicon"
      ],
      "execution_count": 275,
      "outputs": []
    },
    {
      "cell_type": "code",
      "metadata": {
        "id": "jembU1QrcUrt"
      },
      "source": [
        "import requests \n",
        "from bs4 import BeautifulSoup \n",
        "import csv "
      ],
      "execution_count": 276,
      "outputs": []
    },
    {
      "cell_type": "code",
      "metadata": {
        "id": "j1HCIIIYcUuK"
      },
      "source": [
        "\n",
        "#Scraping Google Mini reviews from Best Buy using Beautiful Soup\n",
        "data = []\n",
        "for i in range(1,50):\n",
        "\n",
        "    url = (\"https://www.bestbuy.com/site/reviews/google-home-mini-charcoal/6082195?rating=1%2C2%2C3%2C4&page=\"+ str(i))\n",
        "    page = requests.get(url, headers={'User-Agent': 'Mozilla/5.0'})\n",
        "    #soup = BeautifulSoup(page)\n",
        "    soup = BeautifulSoup(page.content, 'html5lib') \n",
        "    #print(soup.prettify())\n",
        "    x = soup.find_all(\"li\", {\"class\":\"review-item\"})\n",
        "    #print(x)\n",
        "    for item in x:\n",
        "        author_name =item.find_all(\"div\",attrs = {\"class\":\"ugc-author v-fw-medium body-copy-lg\"})[0].text\n",
        "        #print(author_name)\n",
        "        rating = (item.find_all(\"p\",attrs={\"class\":\"sr-only\"})[0].text).split()[1]\n",
        "        #print(rating)\n",
        "        #print(item.find_all(\"h4\",attrs={\"class\":\"review-title c-section-title heading-5 v-fw-medium\"}))\n",
        "        #review_title = item.find_all(\"h4\",attrs={\"class\":\"review-title c-section-title heading-5 v-fw-medium\"})[0].text\n",
        "        review_title=\"Amazon Review\"\n",
        "        #print(review_title)\n",
        "        review_description = item.find_all(\"p\",attrs={\"class\":\"pre-white-space\"})[0].text\n",
        "        #print(review_description)\n",
        "        data.append((author_name,rating, review_title,review_description ))"
      ],
      "execution_count": 277,
      "outputs": []
    },
    {
      "cell_type": "markdown",
      "metadata": {
        "id": "8Apy2GV0UbhQ"
      },
      "source": [
        ""
      ]
    },
    {
      "cell_type": "code",
      "metadata": {
        "id": "QDZPwZpnesWb"
      },
      "source": [
        "#Reading the reviews into a dataframe using Pandas\n",
        "reviews_df= pd.DataFrame(data)\n",
        "reviews_df.columns = [\"Review_Author\",\"Review_Rating\",\"Review_Title\",\"Review_Description\"]"
      ],
      "execution_count": 278,
      "outputs": []
    },
    {
      "cell_type": "code",
      "metadata": {
        "colab": {
          "base_uri": "https://localhost:8080/",
          "height": 202
        },
        "id": "6f1MWAKPesaC",
        "outputId": "ea92f4b7-2b67-4324-a798-02540b1df6db"
      },
      "source": [
        "# lets look how the data looks like\n",
        "reviews_df.head()"
      ],
      "execution_count": 279,
      "outputs": [
        {
          "output_type": "execute_result",
          "data": {
            "text/html": [
              "<div>\n",
              "<style scoped>\n",
              "    .dataframe tbody tr th:only-of-type {\n",
              "        vertical-align: middle;\n",
              "    }\n",
              "\n",
              "    .dataframe tbody tr th {\n",
              "        vertical-align: top;\n",
              "    }\n",
              "\n",
              "    .dataframe thead th {\n",
              "        text-align: right;\n",
              "    }\n",
              "</style>\n",
              "<table border=\"1\" class=\"dataframe\">\n",
              "  <thead>\n",
              "    <tr style=\"text-align: right;\">\n",
              "      <th></th>\n",
              "      <th>Review_Author</th>\n",
              "      <th>Review_Rating</th>\n",
              "      <th>Review_Title</th>\n",
              "      <th>Review_Description</th>\n",
              "    </tr>\n",
              "  </thead>\n",
              "  <tbody>\n",
              "    <tr>\n",
              "      <th>0</th>\n",
              "      <td>Loquita</td>\n",
              "      <td>4</td>\n",
              "      <td>Shreyas</td>\n",
              "      <td>I’m still exploring features, but is better th...</td>\n",
              "    </tr>\n",
              "    <tr>\n",
              "      <th>1</th>\n",
              "      <td>Yhippa</td>\n",
              "      <td>4</td>\n",
              "      <td>Shreyas</td>\n",
              "      <td>The Mini does pretty much everything that the ...</td>\n",
              "    </tr>\n",
              "    <tr>\n",
              "      <th>2</th>\n",
              "      <td>KReed</td>\n",
              "      <td>4</td>\n",
              "      <td>Shreyas</td>\n",
              "      <td>My only gripe is that even though the instruct...</td>\n",
              "    </tr>\n",
              "    <tr>\n",
              "      <th>3</th>\n",
              "      <td>krisiskris</td>\n",
              "      <td>4</td>\n",
              "      <td>Shreyas</td>\n",
              "      <td>I’ve had an Alexa Echo for about a year now an...</td>\n",
              "    </tr>\n",
              "    <tr>\n",
              "      <th>4</th>\n",
              "      <td>MzTrina</td>\n",
              "      <td>4</td>\n",
              "      <td>Shreyas</td>\n",
              "      <td>This google mini is very handy when your cooki...</td>\n",
              "    </tr>\n",
              "  </tbody>\n",
              "</table>\n",
              "</div>"
            ],
            "text/plain": [
              "  Review_Author  ...                                 Review_Description\n",
              "0       Loquita  ...  I’m still exploring features, but is better th...\n",
              "1        Yhippa  ...  The Mini does pretty much everything that the ...\n",
              "2         KReed  ...  My only gripe is that even though the instruct...\n",
              "3    krisiskris  ...  I’ve had an Alexa Echo for about a year now an...\n",
              "4       MzTrina  ...  This google mini is very handy when your cooki...\n",
              "\n",
              "[5 rows x 4 columns]"
            ]
          },
          "metadata": {
            "tags": []
          },
          "execution_count": 279
        }
      ]
    },
    {
      "cell_type": "code",
      "metadata": {
        "colab": {
          "base_uri": "https://localhost:8080/"
        },
        "id": "6vL5Wz65esc_",
        "outputId": "dc6e3b45-3d50-45cc-f78c-d496cca6ade6"
      },
      "source": [
        "reviews_df.shape"
      ],
      "execution_count": 280,
      "outputs": [
        {
          "output_type": "execute_result",
          "data": {
            "text/plain": [
              "(980, 4)"
            ]
          },
          "metadata": {
            "tags": []
          },
          "execution_count": 280
        }
      ]
    },
    {
      "cell_type": "code",
      "metadata": {
        "id": "goQUlM8jdiDb"
      },
      "source": [
        "# Postive words from lexicon\n",
        "pos_list=set(opinion_lexicon.positive())"
      ],
      "execution_count": 282,
      "outputs": []
    },
    {
      "cell_type": "code",
      "metadata": {
        "colab": {
          "base_uri": "https://localhost:8080/"
        },
        "id": "aLW7qBhxdiGw",
        "outputId": "b6c90a6a-5435-4e47-a85e-b4583ecbe16e"
      },
      "source": [
        "len(pos_list)"
      ],
      "execution_count": 283,
      "outputs": [
        {
          "output_type": "execute_result",
          "data": {
            "text/plain": [
              "2006"
            ]
          },
          "metadata": {
            "tags": []
          },
          "execution_count": 283
        }
      ]
    },
    {
      "cell_type": "code",
      "metadata": {
        "id": "R_qzxnBUdiJ3"
      },
      "source": [
        "# Negetive words from lexicon\n",
        "neg_list=set(opinion_lexicon.negative())"
      ],
      "execution_count": 284,
      "outputs": []
    },
    {
      "cell_type": "code",
      "metadata": {
        "colab": {
          "base_uri": "https://localhost:8080/"
        },
        "id": "4Lfq1bk4diNA",
        "outputId": "cfcc7778-5a4e-4882-e7b8-4d98ee112112"
      },
      "source": [
        "len(neg_list)"
      ],
      "execution_count": 285,
      "outputs": [
        {
          "output_type": "execute_result",
          "data": {
            "text/plain": [
              "4783"
            ]
          },
          "metadata": {
            "tags": []
          },
          "execution_count": 285
        }
      ]
    },
    {
      "cell_type": "markdown",
      "metadata": {
        "id": "mWEbv82Ke35g"
      },
      "source": [
        "**Tokenize the words**"
      ]
    },
    {
      "cell_type": "code",
      "metadata": {
        "id": "jGOtTqN6e1eR"
      },
      "source": [
        "tweets = []\n",
        "\n",
        "positive_count_summary_list = []\n",
        "positive_summary_count= []\n",
        "\n",
        "positive_words_list = []\n",
        "\n",
        "negative_count_summary_list = []\n",
        "negative_summary_count =[]\n",
        "\n",
        "negative_words_list = []\n",
        "\n",
        "appended_data = pd.DataFrame([])\n",
        "sentiment_summary_list = []\n",
        "\n",
        "stopwords_set = set(stopwords.words(\"english\"))\n",
        "\n",
        "for index, row in reviews_df.iterrows():\n",
        "    \n",
        "        words_filtered = [e.lower() for e in row.Review_Description.split() if len(e) >= 3]\n",
        "        words_without_stopwords = [word for word in words_filtered if not word in stopwords_set]\n",
        "        \n",
        "        positive_words = set(pos_list).intersection(words_without_stopwords)\n",
        "        positive_words_list.append(positive_words)\n",
        "        \n",
        "        positive_count = len(set(pos_list).intersection(words_without_stopwords))\n",
        "        negative_count = len(set(neg_list).intersection(words_without_stopwords))\n",
        "        \n",
        "        negative_words = set(neg_list).intersection(words_without_stopwords)\n",
        "        negative_words_list.append(negative_words)\n",
        "\n",
        "        positive_count_summary_list.append(positive_count)\n",
        "        negative_count_summary_list.append(negative_count)\n",
        "    \n",
        "        if positive_count > negative_count:\n",
        "            sentiment_summary_list.append('positive')\n",
        "            #tweets.append((words_without_stopwords,sentiment_summary_list))\n",
        "\n",
        "            \n",
        "        elif positive_count < negative_count:\n",
        "            sentiment_summary_list.append('negative')\n",
        "\n",
        "        else:\n",
        "            sentiment_summary_list.append('neutral')\n",
        "            \n",
        "        tweets.append((words_without_stopwords, sentiment_summary_list[-1]))\n",
        "reviews_df['summary_sentiment'] = pd.DataFrame((sentiment_summary_list))"
      ],
      "execution_count": 286,
      "outputs": []
    },
    {
      "cell_type": "code",
      "metadata": {
        "colab": {
          "base_uri": "https://localhost:8080/",
          "height": 202
        },
        "id": "Jr8suEKJe1hf",
        "outputId": "c1b505d6-9d4d-4226-a30d-4dd0b0e4db41"
      },
      "source": [
        "reviews_df.head()"
      ],
      "execution_count": 287,
      "outputs": [
        {
          "output_type": "execute_result",
          "data": {
            "text/html": [
              "<div>\n",
              "<style scoped>\n",
              "    .dataframe tbody tr th:only-of-type {\n",
              "        vertical-align: middle;\n",
              "    }\n",
              "\n",
              "    .dataframe tbody tr th {\n",
              "        vertical-align: top;\n",
              "    }\n",
              "\n",
              "    .dataframe thead th {\n",
              "        text-align: right;\n",
              "    }\n",
              "</style>\n",
              "<table border=\"1\" class=\"dataframe\">\n",
              "  <thead>\n",
              "    <tr style=\"text-align: right;\">\n",
              "      <th></th>\n",
              "      <th>Review_Author</th>\n",
              "      <th>Review_Rating</th>\n",
              "      <th>Review_Title</th>\n",
              "      <th>Review_Description</th>\n",
              "      <th>summary_sentiment</th>\n",
              "    </tr>\n",
              "  </thead>\n",
              "  <tbody>\n",
              "    <tr>\n",
              "      <th>0</th>\n",
              "      <td>Loquita</td>\n",
              "      <td>4</td>\n",
              "      <td>Shreyas</td>\n",
              "      <td>I’m still exploring features, but is better th...</td>\n",
              "      <td>positive</td>\n",
              "    </tr>\n",
              "    <tr>\n",
              "      <th>1</th>\n",
              "      <td>Yhippa</td>\n",
              "      <td>4</td>\n",
              "      <td>Shreyas</td>\n",
              "      <td>The Mini does pretty much everything that the ...</td>\n",
              "      <td>negative</td>\n",
              "    </tr>\n",
              "    <tr>\n",
              "      <th>2</th>\n",
              "      <td>KReed</td>\n",
              "      <td>4</td>\n",
              "      <td>Shreyas</td>\n",
              "      <td>My only gripe is that even though the instruct...</td>\n",
              "      <td>neutral</td>\n",
              "    </tr>\n",
              "    <tr>\n",
              "      <th>3</th>\n",
              "      <td>krisiskris</td>\n",
              "      <td>4</td>\n",
              "      <td>Shreyas</td>\n",
              "      <td>I’ve had an Alexa Echo for about a year now an...</td>\n",
              "      <td>neutral</td>\n",
              "    </tr>\n",
              "    <tr>\n",
              "      <th>4</th>\n",
              "      <td>MzTrina</td>\n",
              "      <td>4</td>\n",
              "      <td>Shreyas</td>\n",
              "      <td>This google mini is very handy when your cooki...</td>\n",
              "      <td>positive</td>\n",
              "    </tr>\n",
              "  </tbody>\n",
              "</table>\n",
              "</div>"
            ],
            "text/plain": [
              "  Review_Author  ... summary_sentiment\n",
              "0       Loquita  ...          positive\n",
              "1        Yhippa  ...          negative\n",
              "2         KReed  ...           neutral\n",
              "3    krisiskris  ...           neutral\n",
              "4       MzTrina  ...          positive\n",
              "\n",
              "[5 rows x 5 columns]"
            ]
          },
          "metadata": {
            "tags": []
          },
          "execution_count": 287
        }
      ]
    },
    {
      "cell_type": "code",
      "metadata": {
        "id": "KqN86P8qe1ky",
        "colab": {
          "base_uri": "https://localhost:8080/"
        },
        "outputId": "2033fa2e-4270-48e4-f065-9b5c551dbfea"
      },
      "source": [
        "reviews_df.shape"
      ],
      "execution_count": 288,
      "outputs": [
        {
          "output_type": "execute_result",
          "data": {
            "text/plain": [
              "(980, 5)"
            ]
          },
          "metadata": {
            "tags": []
          },
          "execution_count": 288
        }
      ]
    },
    {
      "cell_type": "code",
      "metadata": {
        "id": "hlfe15SvPY8i"
      },
      "source": [
        "# Postive words from lexicon\n",
        "pos_list=set(opinion_lexicon.positive())"
      ],
      "execution_count": 289,
      "outputs": []
    },
    {
      "cell_type": "code",
      "metadata": {
        "colab": {
          "base_uri": "https://localhost:8080/"
        },
        "id": "H_ooQsmNPY_p",
        "outputId": "3110de37-c8c4-43aa-bc60-ddd4614fc184"
      },
      "source": [
        "len(pos_list)"
      ],
      "execution_count": 290,
      "outputs": [
        {
          "output_type": "execute_result",
          "data": {
            "text/plain": [
              "2006"
            ]
          },
          "metadata": {
            "tags": []
          },
          "execution_count": 290
        }
      ]
    },
    {
      "cell_type": "code",
      "metadata": {
        "id": "IGrP1NNNPZCx"
      },
      "source": [
        "# Negetive words from lexicon\n",
        "neg_list=set(opinion_lexicon.negative())"
      ],
      "execution_count": 291,
      "outputs": []
    },
    {
      "cell_type": "code",
      "metadata": {
        "colab": {
          "base_uri": "https://localhost:8080/"
        },
        "id": "hRTAv0pDPZFX",
        "outputId": "383aa3bf-1e9c-4623-e298-757db8facf0f"
      },
      "source": [
        "len(neg_list)"
      ],
      "execution_count": 292,
      "outputs": [
        {
          "output_type": "execute_result",
          "data": {
            "text/plain": [
              "4783"
            ]
          },
          "metadata": {
            "tags": []
          },
          "execution_count": 292
        }
      ]
    },
    {
      "cell_type": "markdown",
      "metadata": {
        "id": "4luyZtVFPggA"
      },
      "source": [
        "**Tokenize the words**"
      ]
    },
    {
      "cell_type": "code",
      "metadata": {
        "id": "3Y8SNZjiPg1o"
      },
      "source": [
        "tweets = []\n",
        "\n",
        "positive_count_summary_list = []\n",
        "positive_summary_count= []\n",
        "\n",
        "positive_words_list = []\n",
        "\n",
        "negative_count_summary_list = []\n",
        "negative_summary_count =[]\n",
        "\n",
        "negative_words_list = []\n",
        "\n",
        "appended_data = pd.DataFrame([])\n",
        "sentiment_summary_list = []\n",
        "\n",
        "stopwords_set = set(stopwords.words(\"english\"))\n",
        "\n",
        "for index, row in reviews_df.iterrows():\n",
        "    \n",
        "        words_filtered = [e.lower() for e in row.Review_Description.split() if len(e) >= 3]\n",
        "        words_without_stopwords = [word for word in words_filtered if not word in stopwords_set]\n",
        "        \n",
        "        positive_words = set(pos_list).intersection(words_without_stopwords)\n",
        "        positive_words_list.append(positive_words)\n",
        "        \n",
        "        positive_count = len(set(pos_list).intersection(words_without_stopwords))\n",
        "        negative_count = len(set(neg_list).intersection(words_without_stopwords))\n",
        "        \n",
        "        negative_words = set(neg_list).intersection(words_without_stopwords)\n",
        "        negative_words_list.append(negative_words)\n",
        "\n",
        "        positive_count_summary_list.append(positive_count)\n",
        "        negative_count_summary_list.append(negative_count)\n",
        "    \n",
        "        if positive_count > negative_count:\n",
        "            sentiment_summary_list.append('positive')\n",
        "            #tweets.append((words_without_stopwords,sentiment_summary_list))\n",
        "\n",
        "            \n",
        "        elif positive_count < negative_count:\n",
        "            sentiment_summary_list.append('negative')\n",
        "\n",
        "        else:\n",
        "            sentiment_summary_list.append('positive')\n",
        "            \n",
        "        tweets.append((words_without_stopwords, sentiment_summary_list[-1]))\n",
        "reviews_df['summary_sentiment'] = pd.DataFrame((sentiment_summary_list))\n",
        "        "
      ],
      "execution_count": 293,
      "outputs": []
    },
    {
      "cell_type": "code",
      "metadata": {
        "colab": {
          "base_uri": "https://localhost:8080/",
          "height": 202
        },
        "id": "9JXxcyvyPg4n",
        "outputId": "68470e35-59ba-4f26-bfec-fbbf934fd9ae"
      },
      "source": [
        "reviews_df.head()"
      ],
      "execution_count": 294,
      "outputs": [
        {
          "output_type": "execute_result",
          "data": {
            "text/html": [
              "<div>\n",
              "<style scoped>\n",
              "    .dataframe tbody tr th:only-of-type {\n",
              "        vertical-align: middle;\n",
              "    }\n",
              "\n",
              "    .dataframe tbody tr th {\n",
              "        vertical-align: top;\n",
              "    }\n",
              "\n",
              "    .dataframe thead th {\n",
              "        text-align: right;\n",
              "    }\n",
              "</style>\n",
              "<table border=\"1\" class=\"dataframe\">\n",
              "  <thead>\n",
              "    <tr style=\"text-align: right;\">\n",
              "      <th></th>\n",
              "      <th>Review_Author</th>\n",
              "      <th>Review_Rating</th>\n",
              "      <th>Review_Title</th>\n",
              "      <th>Review_Description</th>\n",
              "      <th>summary_sentiment</th>\n",
              "    </tr>\n",
              "  </thead>\n",
              "  <tbody>\n",
              "    <tr>\n",
              "      <th>0</th>\n",
              "      <td>Loquita</td>\n",
              "      <td>4</td>\n",
              "      <td>Shreyas</td>\n",
              "      <td>I’m still exploring features, but is better th...</td>\n",
              "      <td>positive</td>\n",
              "    </tr>\n",
              "    <tr>\n",
              "      <th>1</th>\n",
              "      <td>Yhippa</td>\n",
              "      <td>4</td>\n",
              "      <td>Shreyas</td>\n",
              "      <td>The Mini does pretty much everything that the ...</td>\n",
              "      <td>negative</td>\n",
              "    </tr>\n",
              "    <tr>\n",
              "      <th>2</th>\n",
              "      <td>KReed</td>\n",
              "      <td>4</td>\n",
              "      <td>Shreyas</td>\n",
              "      <td>My only gripe is that even though the instruct...</td>\n",
              "      <td>positive</td>\n",
              "    </tr>\n",
              "    <tr>\n",
              "      <th>3</th>\n",
              "      <td>krisiskris</td>\n",
              "      <td>4</td>\n",
              "      <td>Shreyas</td>\n",
              "      <td>I’ve had an Alexa Echo for about a year now an...</td>\n",
              "      <td>positive</td>\n",
              "    </tr>\n",
              "    <tr>\n",
              "      <th>4</th>\n",
              "      <td>MzTrina</td>\n",
              "      <td>4</td>\n",
              "      <td>Shreyas</td>\n",
              "      <td>This google mini is very handy when your cooki...</td>\n",
              "      <td>positive</td>\n",
              "    </tr>\n",
              "  </tbody>\n",
              "</table>\n",
              "</div>"
            ],
            "text/plain": [
              "  Review_Author  ... summary_sentiment\n",
              "0       Loquita  ...          positive\n",
              "1        Yhippa  ...          negative\n",
              "2         KReed  ...          positive\n",
              "3    krisiskris  ...          positive\n",
              "4       MzTrina  ...          positive\n",
              "\n",
              "[5 rows x 5 columns]"
            ]
          },
          "metadata": {
            "tags": []
          },
          "execution_count": 294
        }
      ]
    },
    {
      "cell_type": "code",
      "metadata": {
        "id": "nxL2Xm4fPhA9"
      },
      "source": [
        "reviews_df = reviews_df.assign(positive_words_count=pd.Series(positive_count_summary_list).values)\n",
        "reviews_df = reviews_df.assign(negative_words_count=pd.Series(negative_count_summary_list).values)\n",
        "reviews_df = reviews_df.assign(positive_words=pd.Series(positive_words_list).values)\n",
        "reviews_df = reviews_df.assign(negative_words=pd.Series(negative_words_list).values)"
      ],
      "execution_count": 295,
      "outputs": []
    },
    {
      "cell_type": "code",
      "metadata": {
        "colab": {
          "base_uri": "https://localhost:8080/",
          "height": 413
        },
        "id": "W5B0O7wzPhDf",
        "outputId": "22dafce2-b6af-47e7-8d8d-1966e0de769f"
      },
      "source": [
        "reviews_df.head()"
      ],
      "execution_count": 296,
      "outputs": [
        {
          "output_type": "execute_result",
          "data": {
            "text/html": [
              "<div>\n",
              "<style scoped>\n",
              "    .dataframe tbody tr th:only-of-type {\n",
              "        vertical-align: middle;\n",
              "    }\n",
              "\n",
              "    .dataframe tbody tr th {\n",
              "        vertical-align: top;\n",
              "    }\n",
              "\n",
              "    .dataframe thead th {\n",
              "        text-align: right;\n",
              "    }\n",
              "</style>\n",
              "<table border=\"1\" class=\"dataframe\">\n",
              "  <thead>\n",
              "    <tr style=\"text-align: right;\">\n",
              "      <th></th>\n",
              "      <th>Review_Author</th>\n",
              "      <th>Review_Rating</th>\n",
              "      <th>Review_Title</th>\n",
              "      <th>Review_Description</th>\n",
              "      <th>summary_sentiment</th>\n",
              "      <th>positive_words_count</th>\n",
              "      <th>negative_words_count</th>\n",
              "      <th>positive_words</th>\n",
              "      <th>negative_words</th>\n",
              "    </tr>\n",
              "  </thead>\n",
              "  <tbody>\n",
              "    <tr>\n",
              "      <th>0</th>\n",
              "      <td>Loquita</td>\n",
              "      <td>4</td>\n",
              "      <td>Shreyas</td>\n",
              "      <td>I’m still exploring features, but is better th...</td>\n",
              "      <td>positive</td>\n",
              "      <td>1</td>\n",
              "      <td>0</td>\n",
              "      <td>{better}</td>\n",
              "      <td>{}</td>\n",
              "    </tr>\n",
              "    <tr>\n",
              "      <th>1</th>\n",
              "      <td>Yhippa</td>\n",
              "      <td>4</td>\n",
              "      <td>Shreyas</td>\n",
              "      <td>The Mini does pretty much everything that the ...</td>\n",
              "      <td>negative</td>\n",
              "      <td>3</td>\n",
              "      <td>5</td>\n",
              "      <td>{nice, pretty, better}</td>\n",
              "      <td>{suspect, frustration, knock, bother, problem}</td>\n",
              "    </tr>\n",
              "    <tr>\n",
              "      <th>2</th>\n",
              "      <td>KReed</td>\n",
              "      <td>4</td>\n",
              "      <td>Shreyas</td>\n",
              "      <td>My only gripe is that even though the instruct...</td>\n",
              "      <td>positive</td>\n",
              "      <td>1</td>\n",
              "      <td>1</td>\n",
              "      <td>{works}</td>\n",
              "      <td>{gripe}</td>\n",
              "    </tr>\n",
              "    <tr>\n",
              "      <th>3</th>\n",
              "      <td>krisiskris</td>\n",
              "      <td>4</td>\n",
              "      <td>Shreyas</td>\n",
              "      <td>I’ve had an Alexa Echo for about a year now an...</td>\n",
              "      <td>positive</td>\n",
              "      <td>1</td>\n",
              "      <td>1</td>\n",
              "      <td>{precise}</td>\n",
              "      <td>{downside}</td>\n",
              "    </tr>\n",
              "    <tr>\n",
              "      <th>4</th>\n",
              "      <td>MzTrina</td>\n",
              "      <td>4</td>\n",
              "      <td>Shreyas</td>\n",
              "      <td>This google mini is very handy when your cooki...</td>\n",
              "      <td>positive</td>\n",
              "      <td>1</td>\n",
              "      <td>0</td>\n",
              "      <td>{handy}</td>\n",
              "      <td>{}</td>\n",
              "    </tr>\n",
              "  </tbody>\n",
              "</table>\n",
              "</div>"
            ],
            "text/plain": [
              "  Review_Author  ...                                  negative_words\n",
              "0       Loquita  ...                                              {}\n",
              "1        Yhippa  ...  {suspect, frustration, knock, bother, problem}\n",
              "2         KReed  ...                                         {gripe}\n",
              "3    krisiskris  ...                                      {downside}\n",
              "4       MzTrina  ...                                              {}\n",
              "\n",
              "[5 rows x 9 columns]"
            ]
          },
          "metadata": {
            "tags": []
          },
          "execution_count": 296
        }
      ]
    },
    {
      "cell_type": "markdown",
      "metadata": {
        "id": "SaSXkxQHPre_"
      },
      "source": [
        "**Visualized the set of positive words in reviews**"
      ]
    },
    {
      "cell_type": "code",
      "metadata": {
        "colab": {
          "base_uri": "https://localhost:8080/",
          "height": 215
        },
        "id": "pcXL_NGDPtRn",
        "outputId": "66784214-10ed-43d2-c74a-f3534c3dcb40"
      },
      "source": [
        "wordcloud = WordCloud(background_color='black',\n",
        "                          #stopwords=stopwords,\n",
        "                          max_words=800,\n",
        "                          max_font_size=60, \n",
        "                          random_state=50).generate(str(reviews_df['positive_words']))\n",
        "\n",
        "print(wordcloud)\n",
        "fig = plt.figure(1)\n",
        "plt.imshow(wordcloud)\n",
        "plt.axis('off')\n",
        "plt.show()"
      ],
      "execution_count": 297,
      "outputs": [
        {
          "output_type": "stream",
          "text": [
            "<wordcloud.wordcloud.WordCloud object at 0x7fb0c9124cc0>\n"
          ],
          "name": "stdout"
        },
        {
          "output_type": "display_data",
          "data": {
            "image/png": "[encoded data removed]",
            "text/plain": [
              "<Figure size 432x288 with 1 Axes>"
            ]
          },
          "metadata": {
            "tags": [],
            "needs_background": "light"
          }
        }
      ]
    },
    {
      "cell_type": "markdown",
      "metadata": {
        "id": "yeZvFrSxPrhm"
      },
      "source": [
        "**Visualized the set of negative words in reviews**"
      ]
    },
    {
      "cell_type": "code",
      "metadata": {
        "colab": {
          "base_uri": "https://localhost:8080/",
          "height": 215
        },
        "id": "UBjU9X2EPhGe",
        "outputId": "39f0c13b-21ba-4086-d526-a09372b7a341"
      },
      "source": [
        "wordcloud = WordCloud(background_color='black',\n",
        "                          #stopwords=stopwords,\n",
        "                          max_words=800,\n",
        "                          max_font_size=60, \n",
        "                          random_state=50).generate(str(reviews_df['negative_words']))\n",
        "\n",
        "print(wordcloud)\n",
        "fig = plt.figure(1)\n",
        "plt.imshow(wordcloud)\n",
        "plt.axis('off')\n",
        "plt.show()"
      ],
      "execution_count": 298,
      "outputs": [
        {
          "output_type": "stream",
          "text": [
            "<wordcloud.wordcloud.WordCloud object at 0x7fb0c91b54e0>\n"
          ],
          "name": "stdout"
        },
        {
          "output_type": "display_data",
          "data": {
            "image/png": "[encoded data removed]",
            "text/plain": [
              "<Figure size 432x288 with 1 Axes>"
            ]
          },
          "metadata": {
            "tags": [],
            "needs_background": "light"
          }
        }
      ]
    },
    {
      "cell_type": "code",
      "metadata": {
        "id": "fYGv8adTPZIS"
      },
      "source": [
        "df= pd.DataFrame(reviews_df[['Review_Description','summary_sentiment']])"
      ],
      "execution_count": 299,
      "outputs": []
    },
    {
      "cell_type": "code",
      "metadata": {
        "colab": {
          "base_uri": "https://localhost:8080/",
          "height": 202
        },
        "id": "YmG542lYQDU4",
        "outputId": "c09a9d02-ddb9-47de-a1d5-f20dcfc35f54"
      },
      "source": [
        "df.head()"
      ],
      "execution_count": 300,
      "outputs": [
        {
          "output_type": "execute_result",
          "data": {
            "text/html": [
              "<div>\n",
              "<style scoped>\n",
              "    .dataframe tbody tr th:only-of-type {\n",
              "        vertical-align: middle;\n",
              "    }\n",
              "\n",
              "    .dataframe tbody tr th {\n",
              "        vertical-align: top;\n",
              "    }\n",
              "\n",
              "    .dataframe thead th {\n",
              "        text-align: right;\n",
              "    }\n",
              "</style>\n",
              "<table border=\"1\" class=\"dataframe\">\n",
              "  <thead>\n",
              "    <tr style=\"text-align: right;\">\n",
              "      <th></th>\n",
              "      <th>Review_Description</th>\n",
              "      <th>summary_sentiment</th>\n",
              "    </tr>\n",
              "  </thead>\n",
              "  <tbody>\n",
              "    <tr>\n",
              "      <th>0</th>\n",
              "      <td>I’m still exploring features, but is better th...</td>\n",
              "      <td>positive</td>\n",
              "    </tr>\n",
              "    <tr>\n",
              "      <th>1</th>\n",
              "      <td>The Mini does pretty much everything that the ...</td>\n",
              "      <td>negative</td>\n",
              "    </tr>\n",
              "    <tr>\n",
              "      <th>2</th>\n",
              "      <td>My only gripe is that even though the instruct...</td>\n",
              "      <td>positive</td>\n",
              "    </tr>\n",
              "    <tr>\n",
              "      <th>3</th>\n",
              "      <td>I’ve had an Alexa Echo for about a year now an...</td>\n",
              "      <td>positive</td>\n",
              "    </tr>\n",
              "    <tr>\n",
              "      <th>4</th>\n",
              "      <td>This google mini is very handy when your cooki...</td>\n",
              "      <td>positive</td>\n",
              "    </tr>\n",
              "  </tbody>\n",
              "</table>\n",
              "</div>"
            ],
            "text/plain": [
              "                                  Review_Description summary_sentiment\n",
              "0  I’m still exploring features, but is better th...          positive\n",
              "1  The Mini does pretty much everything that the ...          negative\n",
              "2  My only gripe is that even though the instruct...          positive\n",
              "3  I’ve had an Alexa Echo for about a year now an...          positive\n",
              "4  This google mini is very handy when your cooki...          positive"
            ]
          },
          "metadata": {
            "tags": []
          },
          "execution_count": 300
        }
      ]
    },
    {
      "cell_type": "code",
      "metadata": {
        "id": "fUdTNx-uQJRH"
      },
      "source": [
        "df['summary_sentiment'] = df['summary_sentiment'].map({'negative': 0,'positive': 1})"
      ],
      "execution_count": 302,
      "outputs": []
    },
    {
      "cell_type": "code",
      "metadata": {
        "colab": {
          "base_uri": "https://localhost:8080/",
          "height": 202
        },
        "id": "ho_9jLO9QJUU",
        "outputId": "0c71961a-ab65-4c01-f2f0-5047411f1478"
      },
      "source": [
        "df.head()"
      ],
      "execution_count": 303,
      "outputs": [
        {
          "output_type": "execute_result",
          "data": {
            "text/html": [
              "<div>\n",
              "<style scoped>\n",
              "    .dataframe tbody tr th:only-of-type {\n",
              "        vertical-align: middle;\n",
              "    }\n",
              "\n",
              "    .dataframe tbody tr th {\n",
              "        vertical-align: top;\n",
              "    }\n",
              "\n",
              "    .dataframe thead th {\n",
              "        text-align: right;\n",
              "    }\n",
              "</style>\n",
              "<table border=\"1\" class=\"dataframe\">\n",
              "  <thead>\n",
              "    <tr style=\"text-align: right;\">\n",
              "      <th></th>\n",
              "      <th>Review_Description</th>\n",
              "      <th>summary_sentiment</th>\n",
              "    </tr>\n",
              "  </thead>\n",
              "  <tbody>\n",
              "    <tr>\n",
              "      <th>0</th>\n",
              "      <td>I’m still exploring features, but is better th...</td>\n",
              "      <td>1</td>\n",
              "    </tr>\n",
              "    <tr>\n",
              "      <th>1</th>\n",
              "      <td>The Mini does pretty much everything that the ...</td>\n",
              "      <td>0</td>\n",
              "    </tr>\n",
              "    <tr>\n",
              "      <th>2</th>\n",
              "      <td>My only gripe is that even though the instruct...</td>\n",
              "      <td>1</td>\n",
              "    </tr>\n",
              "    <tr>\n",
              "      <th>3</th>\n",
              "      <td>I’ve had an Alexa Echo for about a year now an...</td>\n",
              "      <td>1</td>\n",
              "    </tr>\n",
              "    <tr>\n",
              "      <th>4</th>\n",
              "      <td>This google mini is very handy when your cooki...</td>\n",
              "      <td>1</td>\n",
              "    </tr>\n",
              "  </tbody>\n",
              "</table>\n",
              "</div>"
            ],
            "text/plain": [
              "                                  Review_Description  summary_sentiment\n",
              "0  I’m still exploring features, but is better th...                  1\n",
              "1  The Mini does pretty much everything that the ...                  0\n",
              "2  My only gripe is that even though the instruct...                  1\n",
              "3  I’ve had an Alexa Echo for about a year now an...                  1\n",
              "4  This google mini is very handy when your cooki...                  1"
            ]
          },
          "metadata": {
            "tags": []
          },
          "execution_count": 303
        }
      ]
    },
    {
      "cell_type": "code",
      "metadata": {
        "colab": {
          "base_uri": "https://localhost:8080/"
        },
        "id": "UioL5T7IQgpe",
        "outputId": "ae6c88c4-a44d-4cf2-f69f-94ba04ed8df2"
      },
      "source": [
        "df.shape"
      ],
      "execution_count": 304,
      "outputs": [
        {
          "output_type": "execute_result",
          "data": {
            "text/plain": [
              "(980, 2)"
            ]
          },
          "metadata": {
            "tags": []
          },
          "execution_count": 304
        }
      ]
    },
    {
      "cell_type": "markdown",
      "metadata": {
        "id": "ohUqDJBxQuGT"
      },
      "source": [
        "**Splitting The Data to Train Test Split**"
      ]
    },
    {
      "cell_type": "code",
      "metadata": {
        "id": "IcCi00LTQe2w"
      },
      "source": [
        "train=df[:800]\n",
        "test=df[801:]"
      ],
      "execution_count": 305,
      "outputs": []
    },
    {
      "cell_type": "code",
      "metadata": {
        "colab": {
          "base_uri": "https://localhost:8080/",
          "height": 202
        },
        "id": "KDCsJu5sQe5m",
        "outputId": "173da2d8-d537-450a-afb9-d3c866555db5"
      },
      "source": [
        "train.head()"
      ],
      "execution_count": 306,
      "outputs": [
        {
          "output_type": "execute_result",
          "data": {
            "text/html": [
              "<div>\n",
              "<style scoped>\n",
              "    .dataframe tbody tr th:only-of-type {\n",
              "        vertical-align: middle;\n",
              "    }\n",
              "\n",
              "    .dataframe tbody tr th {\n",
              "        vertical-align: top;\n",
              "    }\n",
              "\n",
              "    .dataframe thead th {\n",
              "        text-align: right;\n",
              "    }\n",
              "</style>\n",
              "<table border=\"1\" class=\"dataframe\">\n",
              "  <thead>\n",
              "    <tr style=\"text-align: right;\">\n",
              "      <th></th>\n",
              "      <th>Review_Description</th>\n",
              "      <th>summary_sentiment</th>\n",
              "    </tr>\n",
              "  </thead>\n",
              "  <tbody>\n",
              "    <tr>\n",
              "      <th>0</th>\n",
              "      <td>I’m still exploring features, but is better th...</td>\n",
              "      <td>1</td>\n",
              "    </tr>\n",
              "    <tr>\n",
              "      <th>1</th>\n",
              "      <td>The Mini does pretty much everything that the ...</td>\n",
              "      <td>0</td>\n",
              "    </tr>\n",
              "    <tr>\n",
              "      <th>2</th>\n",
              "      <td>My only gripe is that even though the instruct...</td>\n",
              "      <td>1</td>\n",
              "    </tr>\n",
              "    <tr>\n",
              "      <th>3</th>\n",
              "      <td>I’ve had an Alexa Echo for about a year now an...</td>\n",
              "      <td>1</td>\n",
              "    </tr>\n",
              "    <tr>\n",
              "      <th>4</th>\n",
              "      <td>This google mini is very handy when your cooki...</td>\n",
              "      <td>1</td>\n",
              "    </tr>\n",
              "  </tbody>\n",
              "</table>\n",
              "</div>"
            ],
            "text/plain": [
              "                                  Review_Description  summary_sentiment\n",
              "0  I’m still exploring features, but is better th...                  1\n",
              "1  The Mini does pretty much everything that the ...                  0\n",
              "2  My only gripe is that even though the instruct...                  1\n",
              "3  I’ve had an Alexa Echo for about a year now an...                  1\n",
              "4  This google mini is very handy when your cooki...                  1"
            ]
          },
          "metadata": {
            "tags": []
          },
          "execution_count": 306
        }
      ]
    },
    {
      "cell_type": "code",
      "metadata": {
        "colab": {
          "base_uri": "https://localhost:8080/",
          "height": 202
        },
        "id": "PkhmBL1vQe81",
        "outputId": "837c3fc7-969f-4167-e863-618f8db8ad98"
      },
      "source": [
        "test.head()"
      ],
      "execution_count": 307,
      "outputs": [
        {
          "output_type": "execute_result",
          "data": {
            "text/html": [
              "<div>\n",
              "<style scoped>\n",
              "    .dataframe tbody tr th:only-of-type {\n",
              "        vertical-align: middle;\n",
              "    }\n",
              "\n",
              "    .dataframe tbody tr th {\n",
              "        vertical-align: top;\n",
              "    }\n",
              "\n",
              "    .dataframe thead th {\n",
              "        text-align: right;\n",
              "    }\n",
              "</style>\n",
              "<table border=\"1\" class=\"dataframe\">\n",
              "  <thead>\n",
              "    <tr style=\"text-align: right;\">\n",
              "      <th></th>\n",
              "      <th>Review_Description</th>\n",
              "      <th>summary_sentiment</th>\n",
              "    </tr>\n",
              "  </thead>\n",
              "  <tbody>\n",
              "    <tr>\n",
              "      <th>801</th>\n",
              "      <td>Purchase google home last year and used it a l...</td>\n",
              "      <td>1</td>\n",
              "    </tr>\n",
              "    <tr>\n",
              "      <th>802</th>\n",
              "      <td>WOW! I didn’t expect the great sound that come...</td>\n",
              "      <td>1</td>\n",
              "    </tr>\n",
              "    <tr>\n",
              "      <th>803</th>\n",
              "      <td>I love the Google home Mini the only reason I ...</td>\n",
              "      <td>1</td>\n",
              "    </tr>\n",
              "    <tr>\n",
              "      <th>804</th>\n",
              "      <td>Love the control of audiocast devices and chro...</td>\n",
              "      <td>1</td>\n",
              "    </tr>\n",
              "    <tr>\n",
              "      <th>805</th>\n",
              "      <td>Does exactly what its ment to,  sometimes has ...</td>\n",
              "      <td>1</td>\n",
              "    </tr>\n",
              "  </tbody>\n",
              "</table>\n",
              "</div>"
            ],
            "text/plain": [
              "                                    Review_Description  summary_sentiment\n",
              "801  Purchase google home last year and used it a l...                  1\n",
              "802  WOW! I didn’t expect the great sound that come...                  1\n",
              "803  I love the Google home Mini the only reason I ...                  1\n",
              "804  Love the control of audiocast devices and chro...                  1\n",
              "805  Does exactly what its ment to,  sometimes has ...                  1"
            ]
          },
          "metadata": {
            "tags": []
          },
          "execution_count": 307
        }
      ]
    },
    {
      "cell_type": "markdown",
      "metadata": {
        "id": "pqvQfrv5Q-Ov"
      },
      "source": [
        "Creating Input Sequences\n",
        "\n",
        "Converting the Pandas Dataframe into suitable object in BERt Model **bold text**"
      ]
    },
    {
      "cell_type": "code",
      "metadata": {
        "id": "f5n0rLGyQe_h"
      },
      "source": [
        "#This will accept our train and test datasets and convert each row into an InputExample object\n",
        "\n",
        "def convert_data_to_examples(train, test, DATA_COLUMN, LABEL_COLUMN): \n",
        "  train_InputExamples = train.apply(lambda x: InputExample(guid=None, # Globally unique ID for bookkeeping, unused in this case\n",
        "                                                          text_a = x[DATA_COLUMN], \n",
        "                                                          text_b = None,\n",
        "                                                          label = x[LABEL_COLUMN]), axis = 1)\n",
        "\n",
        "  validation_InputExamples = test.apply(lambda x: InputExample(guid=None, # Globally unique ID for bookkeeping, unused in this case\n",
        "                                                          text_a = x[DATA_COLUMN], \n",
        "                                                          text_b = None,\n",
        "                                                          label = x[LABEL_COLUMN]), axis = 1)\n",
        "  \n",
        "  return train_InputExamples, validation_InputExamples\n",
        "\n",
        "  train_InputExamples, validation_InputExamples = convert_data_to_examples(train, \n",
        "                                                                           test, \n",
        "                                                                           'DATA_COLUMN', \n",
        "                                                                           'LABEL_COLUMN')"
      ],
      "execution_count": 234,
      "outputs": []
    },
    {
      "cell_type": "code",
      "metadata": {
        "id": "6XpNQB7DQfC4"
      },
      "source": [
        "# This function will tokenize the InputExample objects, then create the required input format \n",
        "# with the tokenized objects, finally, create an input dataset that we can feed to the model.\n",
        "\n",
        "def convert_examples_to_tf_dataset(examples, tokenizer, max_length=128):\n",
        "    features = [] # -> will hold InputFeatures to be converted later\n",
        "\n",
        "    for e in examples:\n",
        "        # Documentation is really strong for this method, so please take a look at it\n",
        "        input_dict = tokenizer.encode_plus(\n",
        "            e.text_a,\n",
        "            add_special_tokens=True,\n",
        "            max_length=max_length, # truncates if len(s) > max_length\n",
        "            return_token_type_ids=True,\n",
        "            return_attention_mask=True,\n",
        "            pad_to_max_length=True, # pads to the right by default # CHECK THIS for pad_to_max_length\n",
        "            truncation=True\n",
        "        )\n",
        "\n",
        "        input_ids, token_type_ids, attention_mask = (input_dict[\"input_ids\"],\n",
        "            input_dict[\"token_type_ids\"], input_dict['attention_mask'])\n",
        "\n",
        "        features.append(\n",
        "            InputFeatures(\n",
        "                input_ids=input_ids, attention_mask=attention_mask, token_type_ids=token_type_ids, label=e.label\n",
        "            )\n",
        "        )\n",
        "\n",
        "    def gen():\n",
        "        for f in features:\n",
        "            yield (\n",
        "                {\n",
        "                    \"input_ids\": f.input_ids,\n",
        "                    \"attention_mask\": f.attention_mask,\n",
        "                    \"token_type_ids\": f.token_type_ids,\n",
        "                },\n",
        "                f.label,\n",
        "            )\n",
        "\n",
        "    return tf.data.Dataset.from_generator(\n",
        "        gen,\n",
        "        ({\"input_ids\": tf.int32, \"attention_mask\": tf.int32, \"token_type_ids\": tf.int32}, tf.int64),\n",
        "        (\n",
        "            {\n",
        "                \"input_ids\": tf.TensorShape([None]),\n",
        "                \"attention_mask\": tf.TensorShape([None]),\n",
        "                \"token_type_ids\": tf.TensorShape([None]),\n",
        "            },\n",
        "            tf.TensorShape([]),\n",
        "        ),\n",
        "    )\n",
        "\n",
        "\n",
        "DATA_COLUMN = 'Review_Description'\n",
        "LABEL_COLUMN = 'summary_sentiment'"
      ],
      "execution_count": 235,
      "outputs": []
    },
    {
      "cell_type": "code",
      "metadata": {
        "id": "XwopJPHORMML"
      },
      "source": [
        "train_InputExamples, validation_InputExamples = convert_data_to_examples(train, test, DATA_COLUMN, LABEL_COLUMN)"
      ],
      "execution_count": 308,
      "outputs": []
    },
    {
      "cell_type": "code",
      "metadata": {
        "colab": {
          "base_uri": "https://localhost:8080/"
        },
        "id": "NrBfasZZRMPY",
        "outputId": "3cc19ea1-0831-4b69-cb0c-c5472c47062c"
      },
      "source": [
        "train_InputExamples"
      ],
      "execution_count": 309,
      "outputs": [
        {
          "output_type": "execute_result",
          "data": {
            "text/plain": [
              "0      InputExample(guid=None, text_a='I’m still expl...\n",
              "1      InputExample(guid=None, text_a=\"The Mini does ...\n",
              "2      InputExample(guid=None, text_a=\"My only gripe ...\n",
              "3      InputExample(guid=None, text_a='I’ve had an Al...\n",
              "4      InputExample(guid=None, text_a=\"This google mi...\n",
              "                             ...                        \n",
              "795    InputExample(guid=None, text_a='The google hom...\n",
              "796    InputExample(guid=None, text_a='I bought these...\n",
              "797    InputExample(guid=None, text_a=\"This was a gre...\n",
              "798    InputExample(guid=None, text_a='Got to admit t...\n",
              "799    InputExample(guid=None, text_a='Very happy wit...\n",
              "Length: 800, dtype: object"
            ]
          },
          "metadata": {
            "tags": []
          },
          "execution_count": 309
        }
      ]
    },
    {
      "cell_type": "code",
      "metadata": {
        "colab": {
          "base_uri": "https://localhost:8080/"
        },
        "id": "2L_fbk7xRMTB",
        "outputId": "f5d77a72-7660-4738-d6fd-57b17b50af29"
      },
      "source": [
        "validation_InputExamples"
      ],
      "execution_count": 310,
      "outputs": [
        {
          "output_type": "execute_result",
          "data": {
            "text/plain": [
              "801    InputExample(guid=None, text_a='Purchase googl...\n",
              "802    InputExample(guid=None, text_a='WOW! I didn’t ...\n",
              "803    InputExample(guid=None, text_a=\"I love the Goo...\n",
              "804    InputExample(guid=None, text_a=\"Love the contr...\n",
              "805    InputExample(guid=None, text_a='Does exactly w...\n",
              "                             ...                        \n",
              "975    InputExample(guid=None, text_a='I think the Go...\n",
              "976    InputExample(guid=None, text_a='This was a gif...\n",
              "977    InputExample(guid=None, text_a=\"As long as you...\n",
              "978    InputExample(guid=None, text_a='This is a geat...\n",
              "979    InputExample(guid=None, text_a='I love it, but...\n",
              "Length: 179, dtype: object"
            ]
          },
          "metadata": {
            "tags": []
          },
          "execution_count": 310
        }
      ]
    },
    {
      "cell_type": "code",
      "metadata": {
        "colab": {
          "base_uri": "https://localhost:8080/"
        },
        "id": "jtMfJ_A7RMVI",
        "outputId": "4f081d81-15eb-4462-e184-963bf023b4cf"
      },
      "source": [
        "tokenizer"
      ],
      "execution_count": 311,
      "outputs": [
        {
          "output_type": "execute_result",
          "data": {
            "text/plain": [
              "PreTrainedTokenizer(name_or_path='bert-base-uncased', vocab_size=30522, model_max_len=512, is_fast=False, padding_side='right', special_tokens={'unk_token': '[UNK]', 'sep_token': '[SEP]', 'pad_token': '[PAD]', 'cls_token': '[CLS]', 'mask_token': '[MASK]'})"
            ]
          },
          "metadata": {
            "tags": []
          },
          "execution_count": 311
        }
      ]
    },
    {
      "cell_type": "code",
      "metadata": {
        "colab": {
          "base_uri": "https://localhost:8080/"
        },
        "id": "VwtCM2c9RMXm",
        "outputId": "d8ea6f21-3b06-4613-e9ab-f5b52e087d49"
      },
      "source": [
        "train_data = convert_examples_to_tf_dataset(list(train_InputExamples), tokenizer)"
      ],
      "execution_count": 312,
      "outputs": [
        {
          "output_type": "stream",
          "text": [
            "/usr/local/lib/python3.6/dist-packages/transformers/tokenization_utils_base.py:2022: FutureWarning: The `pad_to_max_length` argument is deprecated and will be removed in a future version, use `padding=True` or `padding='longest'` to pad to the longest sequence in the batch, or use `padding='max_length'` to pad to a max length. In this case, you can give a specific length with `max_length` (e.g. `max_length=45`) or leave max_length to None to pad to the maximal input size of the model (e.g. 512 for Bert).\n",
            "  FutureWarning,\n"
          ],
          "name": "stderr"
        }
      ]
    },
    {
      "cell_type": "code",
      "metadata": {
        "colab": {
          "base_uri": "https://localhost:8080/"
        },
        "id": "4kX3Xno9RMaT",
        "outputId": "fe3ff743-40cd-48a2-a1fc-085b2c727503"
      },
      "source": [
        "train_data"
      ],
      "execution_count": 313,
      "outputs": [
        {
          "output_type": "execute_result",
          "data": {
            "text/plain": [
              "<FlatMapDataset shapes: ({input_ids: (None,), attention_mask: (None,), token_type_ids: (None,)}, ()), types: ({input_ids: tf.int32, attention_mask: tf.int32, token_type_ids: tf.int32}, tf.int64)>"
            ]
          },
          "metadata": {
            "tags": []
          },
          "execution_count": 313
        }
      ]
    },
    {
      "cell_type": "code",
      "metadata": {
        "id": "kXlH8A5MRUiM"
      },
      "source": [
        "train_data = train_data.shuffle(100).batch(32).repeat(2)"
      ],
      "execution_count": 314,
      "outputs": []
    },
    {
      "cell_type": "code",
      "metadata": {
        "colab": {
          "base_uri": "https://localhost:8080/"
        },
        "id": "duOO-Pe-RUlg",
        "outputId": "9ae2e77f-19d1-45de-fe09-db185dcd891b"
      },
      "source": [
        "validation_data = convert_examples_to_tf_dataset(list(validation_InputExamples), tokenizer)"
      ],
      "execution_count": 315,
      "outputs": [
        {
          "output_type": "stream",
          "text": [
            "/usr/local/lib/python3.6/dist-packages/transformers/tokenization_utils_base.py:2022: FutureWarning: The `pad_to_max_length` argument is deprecated and will be removed in a future version, use `padding=True` or `padding='longest'` to pad to the longest sequence in the batch, or use `padding='max_length'` to pad to a max length. In this case, you can give a specific length with `max_length` (e.g. `max_length=45`) or leave max_length to None to pad to the maximal input size of the model (e.g. 512 for Bert).\n",
            "  FutureWarning,\n"
          ],
          "name": "stderr"
        }
      ]
    },
    {
      "cell_type": "code",
      "metadata": {
        "colab": {
          "base_uri": "https://localhost:8080/"
        },
        "id": "gCJ-ack_RUor",
        "outputId": "0cf75c13-8204-4743-ec3b-f8c0ffda9baa"
      },
      "source": [
        "validation_data "
      ],
      "execution_count": 316,
      "outputs": [
        {
          "output_type": "execute_result",
          "data": {
            "text/plain": [
              "<FlatMapDataset shapes: ({input_ids: (None,), attention_mask: (None,), token_type_ids: (None,)}, ()), types: ({input_ids: tf.int32, attention_mask: tf.int32, token_type_ids: tf.int32}, tf.int64)>"
            ]
          },
          "metadata": {
            "tags": []
          },
          "execution_count": 316
        }
      ]
    },
    {
      "cell_type": "code",
      "metadata": {
        "id": "PivzXUrwRUrY"
      },
      "source": [
        "validation_data = validation_data.batch(32)"
      ],
      "execution_count": 317,
      "outputs": []
    },
    {
      "cell_type": "code",
      "metadata": {
        "colab": {
          "base_uri": "https://localhost:8080/"
        },
        "id": "6FHAyFueRZuA",
        "outputId": "5bb8bfcb-b60c-4af8-fafe-8e2eec3d3e16"
      },
      "source": [
        "validation_data"
      ],
      "execution_count": 318,
      "outputs": [
        {
          "output_type": "execute_result",
          "data": {
            "text/plain": [
              "<BatchDataset shapes: ({input_ids: (None, None), attention_mask: (None, None), token_type_ids: (None, None)}, (None,)), types: ({input_ids: tf.int32, attention_mask: tf.int32, token_type_ids: tf.int32}, tf.int64)>"
            ]
          },
          "metadata": {
            "tags": []
          },
          "execution_count": 318
        }
      ]
    },
    {
      "cell_type": "markdown",
      "metadata": {
        "id": "zQvJi9DYRbn4"
      },
      "source": [
        "**Configuring the BERT model and Fine-tuning**"
      ]
    },
    {
      "cell_type": "code",
      "metadata": {
        "colab": {
          "base_uri": "https://localhost:8080/"
        },
        "id": "4yeX6-01RZxm",
        "outputId": "37ae7944-d7c3-48b7-e60d-3e020a0e6fe9"
      },
      "source": [
        "model.compile(optimizer=tf.keras.optimizers.Adam(learning_rate=3e-5, epsilon=1e-08, clipnorm=1.0), \n",
        "              loss=tf.keras.losses.SparseCategoricalCrossentropy(from_logits=True), \n",
        "              metrics=[tf.keras.metrics.SparseCategoricalAccuracy('accuracy')])\n",
        "\n",
        "model.fit(train_data, epochs=2, validation_data=validation_data)"
      ],
      "execution_count": 319,
      "outputs": [
        {
          "output_type": "stream",
          "text": [
            "Epoch 1/2\n",
            "50/50 [==============================] - 81s 2s/step - loss: 0.2101 - accuracy: 0.9531 - val_loss: 0.1635 - val_accuracy: 0.9609\n",
            "Epoch 2/2\n",
            "50/50 [==============================] - 77s 2s/step - loss: 0.1444 - accuracy: 0.9569 - val_loss: 0.1438 - val_accuracy: 0.9441\n"
          ],
          "name": "stdout"
        },
        {
          "output_type": "execute_result",
          "data": {
            "text/plain": [
              "<tensorflow.python.keras.callbacks.History at 0x7fb0cb912550>"
            ]
          },
          "metadata": {
            "tags": []
          },
          "execution_count": 319
        }
      ]
    },
    {
      "cell_type": "code",
      "metadata": {
        "id": "w-YNbOWkRZ0t"
      },
      "source": [
        "pred_sentences = ['Love the Product. WOW! what a sound!',\n",
        "                  'One of the worst product  of all time. I hate such creepy sound . It doesnot work well']"
      ],
      "execution_count": 267,
      "outputs": []
    },
    {
      "cell_type": "code",
      "metadata": {
        "id": "otVpilh_SCL4"
      },
      "source": [
        "# We need to tokenize our reviews with our pre-trained BERT tokenizer\n",
        "tf_batch = tokenizer(pred_sentences, max_length=128, padding=True, truncation=True, return_tensors='tf')\n",
        "tf_batch\n",
        "tf_outputs = model(tf_batch)\n",
        "tf_outputs\n",
        "tf_predictions = tf.nn.softmax(tf_outputs[0], axis=-1)\n",
        "tf_predictions\n",
        "labels = ['Negative','Positive']"
      ],
      "execution_count": 268,
      "outputs": []
    },
    {
      "cell_type": "code",
      "metadata": {
        "colab": {
          "base_uri": "https://localhost:8080/"
        },
        "id": "VdbYGsLtSogv",
        "outputId": "3bc0c675-ba4b-42df-cc04-64b20e6d0cdf"
      },
      "source": [
        "tf_predictions"
      ],
      "execution_count": 269,
      "outputs": [
        {
          "output_type": "execute_result",
          "data": {
            "text/plain": [
              "<tf.Tensor: shape=(2, 2), dtype=float32, numpy=\n",
              "array([[0.00701986, 0.9929802 ],\n",
              "       [0.0059481 , 0.9940519 ]], dtype=float32)>"
            ]
          },
          "metadata": {
            "tags": []
          },
          "execution_count": 269
        }
      ]
    },
    {
      "cell_type": "code",
      "metadata": {
        "colab": {
          "base_uri": "https://localhost:8080/"
        },
        "id": "-jX4RRfhSO5Z",
        "outputId": "7588e834-f1df-458c-8bd1-981ec35ce6b4"
      },
      "source": [
        "label = tf.argmax(tf_predictions, axis=1)\n",
        "print(label)\n",
        "label = label.numpy()\n",
        "for i in range(len(pred_sentences)):\n",
        "  print(pred_sentences[i], \": \\n\", labels[label[i]])"
      ],
      "execution_count": 270,
      "outputs": [
        {
          "output_type": "stream",
          "text": [
            "tf.Tensor([1 1], shape=(2,), dtype=int64)\n",
            "Love the Product. WOW! what a sound! : \n",
            " Positive\n",
            "One of the worst product  of all time. I hate such creepy sound . It doesnot work well : \n",
            " Positive\n"
          ],
          "name": "stdout"
        }
      ]
    },
    {
      "cell_type": "markdown",
      "metadata": {
        "id": "2RHK1eCXExLD"
      },
      "source": [
        "Here, we can see model is more Accurate as compared to that of of LSTM as Learning is Fast, It takes the enitre context fo sentence into consideration."
      ]
    }
  ]
}